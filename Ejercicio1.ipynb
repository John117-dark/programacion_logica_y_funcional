{
 "cells": [
  {
   "cell_type": "markdown",
   "id": "4586f3af",
   "metadata": {},
   "source": [
    "# Ejercicio 1\n",
    "Ejercicio 1 de evaluacion de expresiones en Phyton\n",
    "\n",
    "$ \\frac {\\pi ^2}{6} = \\sum _{n=1}^{\\infty} \\frac{1}{n^2}  $"
   ]
  },
  {
   "cell_type": "code",
   "execution_count": 10,
   "id": "8e60b34f",
   "metadata": {},
   "outputs": [
    {
     "name": "stdout",
     "output_type": "stream",
     "text": [
      "valor teorico: 1.6449340668482264, Aproximacion: 1.64493306684777\n",
      "Error 1.000000456441441e-06\n"
     ]
    }
   ],
   "source": [
    "import math\n",
    "res = math.pi**2 / 6\n",
    "res2=0\n",
    "\n",
    "for x in range(1,1000000):\n",
    "    res2+= 1/(x**2)\n",
    "\n",
    "print(f\"valor teorico: {res}, Aproximacion: {res2}\")\n",
    "error = abs(res - res2)\n",
    "print(f\"Error {error}\")\n"
   ]
  },
  {
   "cell_type": "markdown",
   "id": "23d782d6",
   "metadata": {},
   "source": [
    "### 1° expr1 = (3 + 2) * 4 \n",
    "En esta expresion de suman primero los numeros de los parentesis y despues el resultado se multiplica"
   ]
  },
  {
   "cell_type": "code",
   "execution_count": 11,
   "id": "6aaa1f1e",
   "metadata": {},
   "outputs": [
    {
     "name": "stdout",
     "output_type": "stream",
     "text": [
      "El resultado de (3+2)*4 es: 20\n"
     ]
    }
   ],
   "source": [
    "import math\n",
    "expr1= (3+2)*4\n",
    "print(f\"El resultado de (3+2)*4 es: {expr1}\")\n"
   ]
  },
  {
   "cell_type": "markdown",
   "id": "bd4af9a5",
   "metadata": {},
   "source": [
    "### 2° expr2 = 2 * 3 ** 2\n",
    "Esta expresion de realiza de derecha a izquierda, realizando primero lo elevado (3 ** 2) despues el resultado de multuiplica por el 2"
   ]
  },
  {
   "cell_type": "code",
   "execution_count": 12,
   "id": "a9ed8069",
   "metadata": {},
   "outputs": [
    {
     "name": "stdout",
     "output_type": "stream",
     "text": [
      "El resultado de 2 * 3 ** 2 es: 18\n"
     ]
    }
   ],
   "source": [
    "import math\n",
    "expr2= 2 * 3 ** 2\n",
    "print(f\"El resultado de 2 * 3 ** 2 es: {expr2}\")\n"
   ]
  },
  {
   "cell_type": "markdown",
   "id": "b26ce646",
   "metadata": {},
   "source": [
    "### 3° expr3 = 10 // 3 + 2\n",
    "Esta expresion se realiza de izquierda a derecha tomando primero la division entera y sumando el resultado"
   ]
  },
  {
   "cell_type": "code",
   "execution_count": 13,
   "id": "e8affc6c",
   "metadata": {},
   "outputs": [
    {
     "name": "stdout",
     "output_type": "stream",
     "text": [
      "El resultado de 10 // 3 + 2 es: 5\n"
     ]
    }
   ],
   "source": [
    "import math\n",
    "expr3 = 10 // 3 + 2\n",
    "print(f\"El resultado de 10 // 3 + 2 es: {expr3}\")\n"
   ]
  },
  {
   "cell_type": "markdown",
   "id": "72b5e739",
   "metadata": {},
   "source": [
    "### 4° expr4 = 17 % 5 * 2\n",
    "Se realiza de izquierda a derecha donde se toma l residuo de la division 17 / 5 (%) que da un 2 y multiplicandolo por 2 da el resultado deseado"
   ]
  },
  {
   "cell_type": "code",
   "execution_count": 14,
   "id": "6327c9db",
   "metadata": {},
   "outputs": [
    {
     "name": "stdout",
     "output_type": "stream",
     "text": [
      "El resultado de 17 % 5 * 2 es: 4\n"
     ]
    }
   ],
   "source": [
    "import math\n",
    "expr4 = 17 % 5 * 2\n",
    "print(f\"El resultado de 17 % 5 * 2 es: {expr4}\")\n"
   ]
  },
  {
   "cell_type": "markdown",
   "id": "373a8dd5",
   "metadata": {},
   "source": [
    "### 5° expr5 = -2 ** 2\n",
    "Solo se eleva el cuadrado el -2"
   ]
  },
  {
   "cell_type": "code",
   "execution_count": null,
   "id": "01f3fda4",
   "metadata": {},
   "outputs": [],
   "source": [
    "import math\n",
    "expr5= -2 ** 2\n",
    "print(f\"El resultado de -2 ** 2 es: {expr5}\")"
   ]
  },
  {
   "cell_type": "markdown",
   "id": "638d710f",
   "metadata": {},
   "source": [
    "### 6° expr6 = 3 + 4 * 2 ** 2 // 3\n",
    "Se realiza el numero elevado, despues la division entera y al final la suma de los numeros"
   ]
  },
  {
   "cell_type": "code",
   "execution_count": 15,
   "id": "639df511",
   "metadata": {},
   "outputs": [
    {
     "name": "stdout",
     "output_type": "stream",
     "text": [
      "El resultado de 3 + 4 * 2 ** 2 // 3 es: 8\n"
     ]
    }
   ],
   "source": [
    "import math\n",
    "expr6 = 3 + 4 * 2 ** 2 // 3\n",
    "print(f\"El resultado de 3 + 4 * 2 ** 2 // 3 es: {expr6}\") "
   ]
  },
  {
   "cell_type": "markdown",
   "id": "057f4d35",
   "metadata": {},
   "source": [
    "### 7° expr7 = 3 < 4 < 5\n",
    "De izquierda a derecha se realizan comparaiones lo cuan da True"
   ]
  },
  {
   "cell_type": "code",
   "execution_count": 2,
   "id": "0518d566",
   "metadata": {},
   "outputs": [
    {
     "name": "stdout",
     "output_type": "stream",
     "text": [
      "El resultado de 3 < 4 < 5 es: True\n"
     ]
    }
   ],
   "source": [
    "import math\n",
    "expr7 = 3 < 4 < 5\n",
    "print(f\"El resultado de 3 < 4 < 5 es: {expr7}\")"
   ]
  },
  {
   "cell_type": "markdown",
   "id": "21be491b",
   "metadata": {},
   "source": [
    "### 8° expr8 = (3 > 2) and (5 < 10) or False\n",
    "En esta expresion se verfican 2 comparaciones, si ambas se cumplen da como resultado True, pero si no lo hace dara False"
   ]
  },
  {
   "cell_type": "code",
   "execution_count": 5,
   "id": "461b7b46",
   "metadata": {},
   "outputs": [
    {
     "name": "stdout",
     "output_type": "stream",
     "text": [
      "El resultado de (3 > 2) and (5 < 10) or False es: True\n"
     ]
    }
   ],
   "source": [
    "import math\n",
    "expr8 = (3 > 2) and (5 < 10) or False\n",
    "print(f\"El resultado de (3 > 2) and (5 < 10) or False es: {expr8}\")"
   ]
  },
  {
   "cell_type": "markdown",
   "id": "dce2fc58",
   "metadata": {},
   "source": [
    "### 9° expr9 = 5 & 3 + 1\n",
    "Primero se realiza la suma despues se hace un and (&) de 5 y 4"
   ]
  },
  {
   "cell_type": "code",
   "execution_count": 17,
   "id": "df303e56",
   "metadata": {},
   "outputs": [
    {
     "name": "stdout",
     "output_type": "stream",
     "text": [
      "El resultado de 5 & 3 + 1 es: 4\n"
     ]
    }
   ],
   "source": [
    "import math\n",
    "expr9 = 5 & 3 + 1\n",
    "print(f\"El resultado de 5 & 3 + 1 es: {expr9}\")"
   ]
  },
  {
   "cell_type": "markdown",
   "id": "ee82533d",
   "metadata": {},
   "source": [
    "### 10° expr10 = (2 + 3) * 4 ** 2 // (5 % 3) and not False\n",
    "En esta expresion se realizan las operaciones de los parentesis, primero se eleva el 4 al cuadrado, despues se realiza la division entera con el resultado de (5 % 3) y finalmente se multiplica por (2 + 3)"
   ]
  },
  {
   "cell_type": "code",
   "execution_count": null,
   "id": "1da207d7",
   "metadata": {},
   "outputs": [
    {
     "name": "stdout",
     "output_type": "stream",
     "text": [
      "El resultado de (2 + 3) * 4 ** 2 // (5 % 3) and not False es: True\n"
     ]
    }
   ],
   "source": [
    "import math\n",
    "expr10 = (2 + 3) * 4 ** 2 // (5 % 3) and not False\n",
    "print(f\"El resultado de (2 + 3) * 4 ** 2 // (5 % 3) and not False es: {expr10}\")"
   ]
  },
  {
   "cell_type": "markdown",
   "id": "713738be",
   "metadata": {},
   "source": [
    "### 11° expr11 =  ((65 & 66) > 70 ) And not (65 ^ 66) == 0\n",
    "El resulaado de (65 & 66) no es mayor que 70 por lo tanto es falso, y (65 ^ 66) no es 0 por lo tanto tambien es falso "
   ]
  },
  {
   "cell_type": "code",
   "execution_count": 9,
   "id": "956f346b",
   "metadata": {},
   "outputs": [
    {
     "name": "stdout",
     "output_type": "stream",
     "text": [
      "El resultado de ((65 & 66) > 70 ) And not (65 ^ 66) == 0 es: False\n"
     ]
    }
   ],
   "source": [
    "import math\n",
    "expr11 =  ((65 & 66) > 70 ) and not (65 ^ 66) == 0\n",
    "print(f\"El resultado de ((65 & 66) > 70 ) And not (65 ^ 66) == 0 es: {expr11}\")"
   ]
  }
 ],
 "metadata": {
  "kernelspec": {
   "display_name": "Python 3",
   "language": "python",
   "name": "python3"
  },
  "language_info": {
   "codemirror_mode": {
    "name": "ipython",
    "version": 3
   },
   "file_extension": ".py",
   "mimetype": "text/x-python",
   "name": "python",
   "nbconvert_exporter": "python",
   "pygments_lexer": "ipython3",
   "version": "3.11.4"
  }
 },
 "nbformat": 4,
 "nbformat_minor": 5
}
